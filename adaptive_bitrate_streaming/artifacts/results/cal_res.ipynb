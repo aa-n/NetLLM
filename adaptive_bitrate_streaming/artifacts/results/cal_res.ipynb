{
 "cells": [
  {
   "cell_type": "code",
   "execution_count": 60,
   "metadata": {},
   "outputs": [],
   "source": [
    "# import pickle\n",
    "# from plm_special.data.exp_pool import ExperiencePool\n",
    "\n",
    "# # 打开并读取 pickle 文件\n",
    "# with open('artifacts/exp_pools/exp_pool.pkl', \"rb\") as f:\n",
    "#     exp_pool = pickle.load(f)\n",
    "\n",
    "# # 输出数据内容\n",
    "# # print(dir(exp_pool))\n",
    "# # 查看对象的字典表示\n",
    "# print(vars(exp_pool))"
   ]
  },
  {
   "cell_type": "code",
   "execution_count": 61,
   "metadata": {},
   "outputs": [],
   "source": [
    "def min_max_normalize(data):\n",
    "    min_val = min(data)\n",
    "    max_val = max(data)\n",
    "    return [(x - min_val) / (max_val - min_val) for x in data]"
   ]
  },
  {
   "cell_type": "code",
   "execution_count": 65,
   "metadata": {},
   "outputs": [],
   "source": [
    "import os\n",
    "\n",
    "llm_path = \"llama_base-lora/early_stop_-1_rank_128_w_20_gamma_1.0_tgt_scale_1.0_seed_100003\"\n",
    "mpc_path = \"mpc/seed_100003\"\n",
    "genet_path = \"genet/seed_100003\"\n",
    "bba_path ='bba/seed_100003'\n",
    "\n",
    "dir_path =[llm_path,mpc_path,genet_path,bba_path]\n",
    "colums = [\n",
    "    'time_stamp',\n",
    "    'bit_rate',\n",
    "    'buffer_size',\n",
    "    'rebuf',\n",
    "    'video_chunk_size',\n",
    "    'download_time',\n",
    "    'smoothness',\n",
    "    'reward',\n",
    "]"
   ]
  },
  {
   "cell_type": "code",
   "execution_count": 68,
   "metadata": {},
   "outputs": [
    {
     "name": "stdout",
     "output_type": "stream",
     "text": [
      "方法: llama\n",
      "0.30069394057269333\n",
      "方法: mpc/seed\n",
      "0.2994409295042655\n",
      "方法: genet/seed\n",
      "0.3076460287766969\n",
      "方法: bba/seed\n",
      "0.30652793806307094\n"
     ]
    }
   ],
   "source": [
    "for dir in dir_path:\n",
    "    file_path = dir\n",
    "    print('方法:',file_path.split('_')[0])\n",
    "    qoe_list = []\n",
    "    for file in os.listdir(file_path):\n",
    "        with open(os.path.join(file_path, file), \"r\") as f:\n",
    "            qoe = 0\n",
    "            C = 0  # 统计有效的分段数量\n",
    "            for line in f:  # 改为逐行读取，减少内存使用\n",
    "                line = line.strip().split(\"\\t\")\n",
    "                if len(line) < 4:  # 检查行是否有效\n",
    "                    continue\n",
    "                try:\n",
    "                    # 提取字段并转换为浮点数\n",
    "                    bitrate = float(line[1])\n",
    "                    rebu = float(line[3])\n",
    "                    smo = float(line[-2])\n",
    "                    # 累计 QoE 和分段计数\n",
    "                    qoe += bitrate - 4.3 * rebu - smo\n",
    "                    C += 1  # 有效行数 +1\n",
    "                except ValueError:\n",
    "                    # 如果某一行无法转换为数字，则跳过\n",
    "                    continue\n",
    "            # 计算平均 QoE（避免 C 为 0 的情况）\n",
    "            if C > 0:\n",
    "                average_qoe = qoe / C\n",
    "                qoe_list.append(average_qoe)\n",
    "                # print(f\"Average QoE for file {file}: {average_qoe}\")\n",
    "            else:\n",
    "                print(f\"No valid data in file {file}\")\n",
    "    qoe_list= min_max_normalize(qoe_list)\n",
    "    # print(qoe_list)\n",
    "    print(sum(qoe_list) / len(qoe_list))"
   ]
  }
 ],
 "metadata": {
  "kernelspec": {
   "display_name": "rrl",
   "language": "python",
   "name": "python3"
  },
  "language_info": {
   "codemirror_mode": {
    "name": "ipython",
    "version": 3
   },
   "file_extension": ".py",
   "mimetype": "text/x-python",
   "name": "python",
   "nbconvert_exporter": "python",
   "pygments_lexer": "ipython3",
   "version": "3.9.21"
  }
 },
 "nbformat": 4,
 "nbformat_minor": 2
}
