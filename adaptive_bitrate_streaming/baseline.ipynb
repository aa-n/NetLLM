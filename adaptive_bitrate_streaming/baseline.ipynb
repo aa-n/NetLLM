{
 "cells": [
  {
   "cell_type": "code",
   "execution_count": 5,
   "metadata": {},
   "outputs": [],
   "source": [
    "import re\n",
    "import pandas as pd\n",
    "\n",
    "# 打开日志文件\n",
    "log_file_path = \"output.log\"  # 替换为实际日志文件路径\n",
    "\n",
    "# 用于存储提取的数据\n",
    "data = []\n",
    "\n",
    "# 读取日志内容\n",
    "with open(log_file_path, \"r\") as log_file:\n",
    "    log_content = log_file.read()\n",
    "\n",
    "# 正则表达式提取内容\n",
    "pattern = re.compile(\n",
    "    r\"Namespace\\(.*?test_trace='(?P<test_trace>\\w+)', test_trace_num=(?P<test_trace_num>-?\\d+), video='(?P<video>\\w+)'\\).*?\"\n",
    "    r\"(?P<dict_output>\\{.*?\\})\", re.DOTALL\n",
    ")\n",
    "\n",
    "# 匹配所有符合条件的块\n",
    "for match in pattern.finditer(log_content):\n",
    "    test_trace = match.group(\"test_trace\")\n",
    "    test_trace_num = int(match.group(\"test_trace_num\"))\n",
    "    video = match.group(\"video\")\n",
    "    dict_output = match.group(\"dict_output\")\n",
    "    \n",
    "    # 添加到数据列表\n",
    "    data.append({\n",
    "        \"Test Trace\": test_trace,\n",
    "        \"Test Trace Num\": test_trace_num,\n",
    "        \"Video\": video,\n",
    "        \"Dict Output\": dict_output\n",
    "    })\n",
    "\n",
    "# 转换为DataFrame\n",
    "df = pd.DataFrame(data)\n",
    "\n",
    "df\n",
    "# # 保存为CSV文件\n",
    "output_csv_path = \"extracted_results.csv\"\n",
    "df.to_csv(output_csv_path, index=False)"
   ]
  },
  {
   "cell_type": "code",
   "execution_count": 68,
   "metadata": {},
   "outputs": [
    {
     "name": "stdout",
     "output_type": "stream",
     "text": [
      "{'genet': {'norway': '7.12', '5g': '4.08', 'fcc': '11.45', 'fcc-test': '5.73', 'ghent': '3.97', 'oboe': '16.17'}, 'mpc': {'norway': '4.23', '5g': '3.57', 'fcc': '5.74', 'fcc-test': '3.91', 'ghent': '3.58', 'oboe': '6.05'}, 'bba': {'norway': '2.97', '5g': '2.62', 'fcc': '4.23', 'fcc-test': '2.68', 'ghent': '2.35', 'oboe': '4.45'}}\n"
     ]
    }
   ],
   "source": [
    "import re\n",
    "import pandas as pd\n",
    "\n",
    "# 打开日志文件\n",
    "log_file_path = \"time.log\"  # 替换为实际日志文件路径\n",
    "\n",
    "# 用于存储提取的数据\n",
    "data = {\"norway\": 0, \"5g\": 0, \"fcc-test\": 0, \"ghent\": 0, \"fcc\": 0}\n",
    "res = {}\n",
    "# 读取日志内容\n",
    "with open(log_file_path, \"r\") as log_file:\n",
    "    tmp = \"\"\n",
    "    model =''\n",
    "    for idx,line in enumerate(log_file):\n",
    "        line = line.strip('\\n')\n",
    "        dataset = line.split(' ')\n",
    "        # print(dataset)\n",
    "        if 'Model:' in dataset:\n",
    "            model = dataset[1].split('_')[0]\n",
    "            tmp = dataset[2]\n",
    "            if model not in res:\n",
    "                res[model] = {}\n",
    "            # print(model,dataset[-1])\n",
    "        if 'Time' in dataset:\n",
    "            res[model][tmp] = dataset[2]\n",
    "# print(data)\n",
    "print(res)\n",
    "df = pd.DataFrame(res)\n",
    "# # 保存为CSV文件\n",
    "output_csv_path = \"time.csv\"\n",
    "df.to_csv(output_csv_path, index=True)# index为True才有列名"
   ]
  },
  {
   "cell_type": "code",
   "execution_count": null,
   "metadata": {},
   "outputs": [],
   "source": []
  }
 ],
 "metadata": {
  "kernelspec": {
   "display_name": "rrl",
   "language": "python",
   "name": "python3"
  },
  "language_info": {
   "codemirror_mode": {
    "name": "ipython",
    "version": 3
   },
   "file_extension": ".py",
   "mimetype": "text/x-python",
   "name": "python",
   "nbconvert_exporter": "python",
   "pygments_lexer": "ipython3",
   "version": "3.9.21"
  }
 },
 "nbformat": 4,
 "nbformat_minor": 2
}
